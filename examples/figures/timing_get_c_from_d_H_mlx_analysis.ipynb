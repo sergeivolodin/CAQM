{
 "cells": [
  {
   "cell_type": "code",
   "execution_count": 19,
   "metadata": {
    "ExecuteTime": {
     "end_time": "2020-09-01T18:11:16.005926Z",
     "start_time": "2020-09-01T18:11:15.467565Z"
    }
   },
   "outputs": [],
   "source": [
    "from scipy.io import loadmat\n",
    "from matplotlib import pyplot as plt\n",
    "import numpy as np\n",
    "from sklearn.linear_model import LinearRegression\n",
    "%matplotlib widget"
   ]
  },
  {
   "cell_type": "code",
   "execution_count": 2,
   "metadata": {
    "ExecuteTime": {
     "end_time": "2020-09-01T18:06:25.215484Z",
     "start_time": "2020-09-01T18:06:25.205933Z"
    }
   },
   "outputs": [],
   "source": [
    "arr = loadmat('/mnt/c/Users/serge/OneDrive/Documents/MATLAB/CAQM/examples/figures/timing_get_c_from_d_H_mlx_arr.mat')"
   ]
  },
  {
   "cell_type": "code",
   "execution_count": 3,
   "metadata": {
    "ExecuteTime": {
     "end_time": "2020-09-01T18:06:26.167557Z",
     "start_time": "2020-09-01T18:06:26.163124Z"
    }
   },
   "outputs": [],
   "source": [
    "ns, ms, c_plus_time, c_minus_time = arr['plot_ns'][0], arr['plot_ms'][0], arr['plot_c_plus_time'][0], arr['plot_c_minus_time'][0]"
   ]
  },
  {
   "cell_type": "code",
   "execution_count": 12,
   "metadata": {
    "ExecuteTime": {
     "end_time": "2020-09-01T18:10:02.414902Z",
     "start_time": "2020-09-01T18:10:02.375058Z"
    }
   },
   "outputs": [
    {
     "data": {
      "application/vnd.jupyter.widget-view+json": {
       "model_id": "c3c3828a89af4d28868e8dcd2250d4df",
       "version_major": 2,
       "version_minor": 0
      },
      "text/plain": [
       "Canvas(toolbar=Toolbar(toolitems=[('Home', 'Reset original view', 'home', 'home'), ('Back', 'Back to previous …"
      ]
     },
     "metadata": {},
     "output_type": "display_data"
    }
   ],
   "source": [
    "fig = plt.figure()\n",
    "ax = fig.add_subplot(111, projection='3d')\n",
    "\n",
    "ax.scatter(ns, ms, c_plus_time)\n",
    "plt.show()"
   ]
  },
  {
   "cell_type": "code",
   "execution_count": 64,
   "metadata": {
    "ExecuteTime": {
     "end_time": "2020-09-01T18:22:50.853117Z",
     "start_time": "2020-09-01T18:22:50.848888Z"
    }
   },
   "outputs": [],
   "source": [
    "ns_log = np.log10(ns)\n",
    "ms_log = np.log10(ms)\n",
    "t_log_plus = np.log10(c_plus_time)\n",
    "t_log_minus = np.log10(c_minus_time)"
   ]
  },
  {
   "cell_type": "code",
   "execution_count": 90,
   "metadata": {
    "ExecuteTime": {
     "end_time": "2020-09-01T18:25:47.634312Z",
     "start_time": "2020-09-01T18:25:47.629768Z"
    }
   },
   "outputs": [],
   "source": [
    "def X_from_nm_log(ns_log, ms_log):\n",
    "    X = np.array([ns_log, ms_log, np.exp(ns_log), np.exp(ms_log), np.multiply(ns_log, ms_log),\n",
    "                  \n",
    "                  np.exp(np.multiply(ns_log, ms_log))]).T\n",
    "    return X\n",
    "X = X_from_nm_log(ns_log, ms_log)\n",
    "y = t_log_minus#plus"
   ]
  },
  {
   "cell_type": "code",
   "execution_count": 91,
   "metadata": {
    "ExecuteTime": {
     "end_time": "2020-09-01T18:25:48.159434Z",
     "start_time": "2020-09-01T18:25:48.154751Z"
    }
   },
   "outputs": [
    {
     "data": {
      "text/plain": [
       "(2842, 6)"
      ]
     },
     "execution_count": 91,
     "metadata": {},
     "output_type": "execute_result"
    }
   ],
   "source": [
    "X.shape"
   ]
  },
  {
   "cell_type": "code",
   "execution_count": 92,
   "metadata": {
    "ExecuteTime": {
     "end_time": "2020-09-01T18:25:48.377373Z",
     "start_time": "2020-09-01T18:25:48.370352Z"
    }
   },
   "outputs": [
    {
     "data": {
      "text/plain": [
       "LinearRegression(copy_X=True, fit_intercept=True, n_jobs=None, normalize=False)"
      ]
     },
     "execution_count": 92,
     "metadata": {},
     "output_type": "execute_result"
    }
   ],
   "source": [
    "lr = LinearRegression()\n",
    "lr.fit(X, y)"
   ]
  },
  {
   "cell_type": "code",
   "execution_count": 93,
   "metadata": {
    "ExecuteTime": {
     "end_time": "2020-09-01T18:25:48.591862Z",
     "start_time": "2020-09-01T18:25:48.586437Z"
    }
   },
   "outputs": [
    {
     "data": {
      "text/plain": [
       "array([-0.77031374, -0.42382073,  0.8295014 , ...,  0.1129868 ,\n",
       "        0.45418525,  0.54009557], dtype=float32)"
      ]
     },
     "execution_count": 93,
     "metadata": {},
     "output_type": "execute_result"
    }
   ],
   "source": [
    "lr.predict(X)"
   ]
  },
  {
   "cell_type": "code",
   "execution_count": 94,
   "metadata": {
    "ExecuteTime": {
     "end_time": "2020-09-01T18:25:49.086503Z",
     "start_time": "2020-09-01T18:25:49.081631Z"
    }
   },
   "outputs": [
    {
     "data": {
      "text/plain": [
       "array([-1.9134682 , -0.5607573 ,  0.52768224,  0.09085371,  0.4052508 ,\n",
       "        0.00751156], dtype=float32)"
      ]
     },
     "execution_count": 94,
     "metadata": {},
     "output_type": "execute_result"
    }
   ],
   "source": [
    "lr.coef_"
   ]
  },
  {
   "cell_type": "code",
   "execution_count": 95,
   "metadata": {
    "ExecuteTime": {
     "end_time": "2020-09-01T18:25:49.888361Z",
     "start_time": "2020-09-01T18:25:49.847149Z"
    }
   },
   "outputs": [
    {
     "data": {
      "application/vnd.jupyter.widget-view+json": {
       "model_id": "626dec356b5e442189fccf0a5d92de82",
       "version_major": 2,
       "version_minor": 0
      },
      "text/plain": [
       "Canvas(toolbar=Toolbar(toolitems=[('Home', 'Reset original view', 'home', 'home'), ('Back', 'Back to previous …"
      ]
     },
     "metadata": {},
     "output_type": "display_data"
    }
   ],
   "source": [
    "def range_from_arr(a):\n",
    "    m, M = np.min(a), np.max(a)\n",
    "    return np.linspace(m, M, 100)\n",
    "\n",
    "fig = plt.figure()\n",
    "ax = fig.add_subplot(111, projection='3d')\n",
    "\n",
    "\n",
    "\n",
    "ax.scatter(ns_log, ms_log, t_log_plus, alpha=0.4)\n",
    "ax.scatter(ns_log, ms_log, lr.predict(X), alpha=0.4)\n",
    "\n",
    "\n",
    "# ns1 = range_from_arr(ns_log)\n",
    "# ms1 = range_from_arr(ms_log)\n",
    "# ns1, ms1 = np.meshgrid(ns1, ms1)\n",
    "# yp = X_from_nm_log(ns1, ms1)\n",
    "# ax.plot_surface(ns_log, ms_log, lr.predict(yp), alpha=0.5)\n",
    "\n",
    "plt.show()"
   ]
  },
  {
   "cell_type": "code",
   "execution_count": 57,
   "metadata": {
    "ExecuteTime": {
     "end_time": "2020-09-01T18:20:23.996527Z",
     "start_time": "2020-09-01T18:20:23.991910Z"
    }
   },
   "outputs": [
    {
     "data": {
      "text/plain": [
       "array([[0.60205078, 0.61617148, 0.63029218, ..., 1.9717586 , 1.9858793 ,\n",
       "        2.        ],\n",
       "       [0.60205078, 0.61617148, 0.63029218, ..., 1.9717586 , 1.9858793 ,\n",
       "        2.        ],\n",
       "       [0.60205078, 0.61617148, 0.63029218, ..., 1.9717586 , 1.9858793 ,\n",
       "        2.        ],\n",
       "       ...,\n",
       "       [0.60205078, 0.61617148, 0.63029218, ..., 1.9717586 , 1.9858793 ,\n",
       "        2.        ],\n",
       "       [0.60205078, 0.61617148, 0.63029218, ..., 1.9717586 , 1.9858793 ,\n",
       "        2.        ],\n",
       "       [0.60205078, 0.61617148, 0.63029218, ..., 1.9717586 , 1.9858793 ,\n",
       "        2.        ]])"
      ]
     },
     "execution_count": 57,
     "metadata": {},
     "output_type": "execute_result"
    }
   ],
   "source": [
    "ns1"
   ]
  },
  {
   "cell_type": "code",
   "execution_count": 56,
   "metadata": {
    "ExecuteTime": {
     "end_time": "2020-09-01T18:20:10.951791Z",
     "start_time": "2020-09-01T18:20:10.947173Z"
    }
   },
   "outputs": [
    {
     "ename": "SyntaxError",
     "evalue": "unexpected EOF while parsing (<ipython-input-56-0134db816c7e>, line 1)",
     "output_type": "error",
     "traceback": [
      "\u001b[0;36m  File \u001b[0;32m\"<ipython-input-56-0134db816c7e>\"\u001b[0;36m, line \u001b[0;32m1\u001b[0m\n\u001b[0;31m    lr.predict(np.zeros((3, 3))\u001b[0m\n\u001b[0m                               ^\u001b[0m\n\u001b[0;31mSyntaxError\u001b[0m\u001b[0;31m:\u001b[0m unexpected EOF while parsing\n"
     ]
    }
   ],
   "source": [
    "lr.predict(np.zeros((3, 3))"
   ]
  },
  {
   "cell_type": "code",
   "execution_count": null,
   "metadata": {},
   "outputs": [],
   "source": []
  }
 ],
 "metadata": {
  "kernelspec": {
   "display_name": "Python 3",
   "language": "python",
   "name": "python3"
  },
  "language_info": {
   "codemirror_mode": {
    "name": "ipython",
    "version": 3
   },
   "file_extension": ".py",
   "mimetype": "text/x-python",
   "name": "python",
   "nbconvert_exporter": "python",
   "pygments_lexer": "ipython3",
   "version": "3.7.7"
  }
 },
 "nbformat": 4,
 "nbformat_minor": 4
}
